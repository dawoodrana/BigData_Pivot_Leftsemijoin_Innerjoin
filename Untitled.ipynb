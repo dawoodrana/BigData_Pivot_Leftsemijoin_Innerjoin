{
 "cells": [
  {
   "cell_type": "code",
   "execution_count": 1,
   "metadata": {},
   "outputs": [
    {
     "name": "stdout",
     "output_type": "stream",
     "text": [
      "+---------+---------+--------------------+--------+-------------------+---------+----------+--------------+\n",
      "|InvoiceNo|StockCode|         Description|Quantity|        InvoiceDate|UnitPrice|CustomerID|       Country|\n",
      "+---------+---------+--------------------+--------+-------------------+---------+----------+--------------+\n",
      "|   536365|   85123A|WHITE HANGING HEA...|       6|2010-12-01 08:26:00|     2.55|   17850.0|United Kingdom|\n",
      "|   536365|    71053| WHITE METAL LANTERN|       6|2010-12-01 08:26:00|     3.39|   17850.0|United Kingdom|\n",
      "|   536365|   84406B|CREAM CUPID HEART...|       8|2010-12-01 08:26:00|     2.75|   17850.0|United Kingdom|\n",
      "|   536365|   84029G|KNITTED UNION FLA...|       6|2010-12-01 08:26:00|     3.39|   17850.0|United Kingdom|\n",
      "|   536365|   84029E|RED WOOLLY HOTTIE...|       6|2010-12-01 08:26:00|     3.39|   17850.0|United Kingdom|\n",
      "+---------+---------+--------------------+--------+-------------------+---------+----------+--------------+\n",
      "only showing top 5 rows\n",
      "\n"
     ]
    }
   ],
   "source": [
    "dataframe = spark.read.option(\"inferschema\", \"true\").option(\"header\", \"true\").option(\"timestampFormat\",\"dd/M/yyyy H:mm\").csv(\"retail04.csv\")\n",
    "dataframe.show(5)"
   ]
  },
  {
   "cell_type": "code",
   "execution_count": 2,
   "metadata": {},
   "outputs": [
    {
     "name": "stdout",
     "output_type": "stream",
     "text": [
      "+---------+---------+----+------+-------+-----------+------+--------------+\n",
      "|StockCode|Australia|EIRE|France|Germany|Netherlands|Norway|United Kingdom|\n",
      "+---------+---------+----+------+-------+-----------+------+--------------+\n",
      "|    22728|     null|null|    24|   null|       null|  null|            13|\n",
      "|    21259|     null|null|  null|   null|       null|  null|             8|\n",
      "|    21889|     null|  24|  null|   null|       null|  null|            28|\n",
      "|    22121|     null|null|  null|   null|       null|  null|            14|\n",
      "|    90022|     null|null|  null|   null|       null|  null|             1|\n",
      "|   90210B|     null|null|  null|   null|       null|  null|             1|\n",
      "|    21894|     null|null|  null|   null|       null|  null|             4|\n",
      "|    21452|     null|null|  null|   null|       null|  null|            12|\n",
      "|    21249|     null|null|  null|   null|       null|  null|             2|\n",
      "|    21671|     null|null|  null|   null|       null|  null|             2|\n",
      "|    22130|     null|null|  null|   null|       null|  null|            32|\n",
      "|    22314|     null|null|  null|   null|       null|  null|             8|\n",
      "|    21711|     null|null|  null|   null|       null|  null|             1|\n",
      "|    22438|     null|null|  null|   null|       null|  null|             1|\n",
      "|    85064|     null|null|  null|   null|       null|  null|             6|\n",
      "|    22529|     null|null|  null|   null|       null|  null|             3|\n",
      "|    21967|     null|null|  null|   null|       null|    48|             1|\n",
      "|    82486|     null|null|  null|   null|       null|  null|            18|\n",
      "|   85170D|     null|null|  null|   null|       null|  null|             1|\n",
      "|    22629|     null|null|    24|   null|       null|  null|             3|\n",
      "+---------+---------+----+------+-------+-----------+------+--------------+\n",
      "only showing top 20 rows\n",
      "\n"
     ]
    }
   ],
   "source": [
    "from pyspark.sql.functions import sum\n",
    "dataframe.groupBy(\"StockCode\").pivot(\"Country\").agg(sum(\"Quantity\")).show()"
   ]
  },
  {
   "cell_type": "code",
   "execution_count": 3,
   "metadata": {
    "scrolled": true
   },
   "outputs": [
    {
     "ename": "SyntaxError",
     "evalue": "invalid syntax (<ipython-input-3-e1b6e688884c>, line 1)",
     "output_type": "error",
     "traceback": [
      "\u001b[1;36m  File \u001b[1;32m\"<ipython-input-3-e1b6e688884c>\"\u001b[1;36m, line \u001b[1;32m1\u001b[0m\n\u001b[1;33m    SELECT * FROM employees e LEFT SEMI JOIN orders o ON e.employee_id = o.salesman_id\u001b[0m\n\u001b[1;37m                  ^\u001b[0m\n\u001b[1;31mSyntaxError\u001b[0m\u001b[1;31m:\u001b[0m invalid syntax\n"
     ]
    }
   ],
   "source": [
    "#SQL left semi join \n",
    "SELECT * \n",
    "FROM employees e LEFT SEMI JOIN orders o ON e.employee_id = o.salesman_id"
   ]
  },
  {
   "cell_type": "code",
   "execution_count": null,
   "metadata": {},
   "outputs": [],
   "source": [
    "# PySpark left semi join\n",
    "employees.join(orders, f.expr(\"employee_id = salesman_id\"), \"left_semi\")"
   ]
  },
  {
   "cell_type": "code",
   "execution_count": null,
   "metadata": {},
   "outputs": [],
   "source": [
    "# PySpark inner join\n",
    "employees.join(orders, f.expr(\"employee_id = salesman_id\"),\"inner\").groupBy(\"employee_id\").agg(f.expr(\"count(*) as sales\")).orderBy(\"sales\",ascending=False)"
   ]
  },
  {
   "cell_type": "code",
   "execution_count": null,
   "metadata": {},
   "outputs": [],
   "source": [
    "# SQL Inner join\n",
    "SELECT e.employee_id, count(*) as sales FROM employees e INNER JOIN orders o ON e.employee_id = o.salesman_id GROUP BY e.employee_id ORDER BY sales DESC"
   ]
  }
 ],
 "metadata": {
  "kernelspec": {
   "display_name": "Python 3",
   "language": "python",
   "name": "python3"
  },
  "language_info": {
   "codemirror_mode": {
    "name": "ipython",
    "version": 3
   },
   "file_extension": ".py",
   "mimetype": "text/x-python",
   "name": "python",
   "nbconvert_exporter": "python",
   "pygments_lexer": "ipython3",
   "version": "3.8.5"
  }
 },
 "nbformat": 4,
 "nbformat_minor": 5
}
